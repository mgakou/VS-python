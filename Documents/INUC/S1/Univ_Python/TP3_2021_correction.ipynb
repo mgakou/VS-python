{
 "cells": [
  {
   "cell_type": "markdown",
   "metadata": {},
   "source": [
    "# TP n°3 : Boucle for - Boucle While\n",
    "\n"
   ]
  },
  {
   "cell_type": "markdown",
   "metadata": {},
   "source": [
    "___________________________________________________________________________\n",
    "## multiples et pas multiples\n",
    "\n"
   ]
  },
  {
   "cell_type": "markdown",
   "metadata": {},
   "source": [
    "Combien y-a-t-il d'entiers entre 1 et 20000 qui sont multiples de 7 mais pas multiples de 9 ? \n",
    "\n",
    "Le nombre à trouver est 2540.\n",
    "\n"
   ]
  },
  {
   "cell_type": "code",
   "execution_count": 3,
   "metadata": {},
   "outputs": [
    {
     "name": "stdout",
     "output_type": "stream",
     "text": [
      "le nb d entiers entre 1 et 20000 multiples de 7 et pas multiple de 9 est : 2540\n"
     ]
    }
   ],
   "source": [
    "# Votre code ICI\n",
    "cpt = 0\n",
    "for i in range(1,20001):\n",
    "    if (i%7 == 0 and i%9 != 0):\n",
    "        cpt=cpt+1\n",
    "print(\"le nb d entiers entre 1 et 20000 multiples de 7 et pas multiple de 9 est :\",cpt)"
   ]
  },
  {
   "cell_type": "markdown",
   "metadata": {},
   "source": [
    "___________________________________________________________________________\n",
    "## Somme de $n$ entiers consécutifs à partir de $d$\n",
    "\n"
   ]
  },
  {
   "cell_type": "markdown",
   "metadata": {},
   "source": [
    "On vous donne deux entiers positifs `d` et `n`. On vous demande de calculer la somme des `n` entiers consécutifs à partir de `d`. Par exemple, si $d=10$ et $n=4$, vous devez calculer $10+11+12+13=46$. Voici d'autres exemples :\n",
    "\n",
    "    (d, n) = (10, 1) -> 10\n",
    "    (d, n) = (10, 2) -> 21\n",
    "    (d, n) = (10, 100) -> 5950\n"
   ]
  },
  {
   "cell_type": "code",
   "execution_count": 6,
   "metadata": {},
   "outputs": [
    {
     "name": "stdout",
     "output_type": "stream",
     "text": [
      " la somme des entiers entre  10  et  100  est :  5950\n"
     ]
    }
   ],
   "source": [
    "# Votre code ICI\n",
    "d = 10\n",
    "n = 100\n",
    "somme = 0\n",
    "for i in range(d,d+n):\n",
    "    somme = somme + i\n",
    "print(\" la somme des entiers entre \",d,\" et \",n,\" est : \",somme)"
   ]
  },
  {
   "cell_type": "markdown",
   "metadata": {},
   "source": [
    "___________________________________________________________________________\n",
    "## Somme d'entiers pairs consécutifs\n",
    "\n"
   ]
  },
  {
   "cell_type": "markdown",
   "metadata": {},
   "source": [
    "On donne un entier $N\\ge 0$ et on demande de calculer la somme des $N$ premiers entiers pairs, c'est-à-dire\n",
    "\n",
    "$$2, 4, 6, 8, 10 \\text{etc}  $$\n",
    "\n",
    "Par exemple, si $N=6$, on trouvera $2 + 4 + 6 + 8 + 10 + 12 +  = 42$.\n",
    "\n",
    "Vérifier dans vos tests que cette somme vaut toujours $N(N+1)$.\n",
    "\n"
   ]
  },
  {
   "cell_type": "code",
   "execution_count": 50,
   "metadata": {},
   "outputs": [
    {
     "name": "stdout",
     "output_type": "stream",
     "text": [
      "la somme des entiers pairs de 0 à  6  est :  42\n",
      " test formule : OK\n"
     ]
    }
   ],
   "source": [
    "# Votre code ICI\n",
    "N = 6\n",
    "somme = 0\n",
    "for i in range(2,2*N+2,2):\n",
    "    somme = somme + i\n",
    "print(\"la somme des entiers pairs de 0 à \",N,\" est : \",somme)\n",
    "if (somme == N*(N+1)):\n",
    "    print(\" test formule : OK\")\n",
    "else :\n",
    "    print(\" test formule : Pas OK\")"
   ]
  },
  {
   "cell_type": "markdown",
   "metadata": {},
   "source": [
    "___________________________________________________________________________\n",
    "## Suite de Fibonacci\n",
    "\n"
   ]
  },
  {
   "cell_type": "markdown",
   "metadata": {},
   "source": [
    "On considère la suite de nombres entiers dont les deux premiers termes sont :\n",
    "\n",
    "$F_0$ = 1, et $F_1$ = 1.\n",
    "    \n",
    "Les termes suivants de cette suite sont construit de la manière suivante :\n",
    "\n",
    "$F_n$ = $F_{n-1}$ + $F_{n-2}$\n",
    "\n",
    "( voir https://fr.wikipedia.org/wiki/Suite_de_Fibonacci )\n",
    "\n",
    "Ecrire un code qui à partir d'un entier $n\\geq0$ affiche le $n^{\\text{e}}$ terme de la suite. Exemple de comportements selon la valeur de `n` :\n",
    "\n",
    "    3 -> 2\n",
    "    11 -> 89\n",
    "    16 -> 987\n"
   ]
  },
  {
   "cell_type": "code",
   "execution_count": 18,
   "metadata": {},
   "outputs": [
    {
     "name": "stdout",
     "output_type": "stream",
     "text": [
      "le  11 ieme terme de la suite de Fibonacci est :  89\n"
     ]
    }
   ],
   "source": [
    "# Votre code ICI\n",
    "F0 = 1\n",
    "F1 = 1\n",
    "n = 11\n",
    "F = 0\n",
    "for i in range(2,n):\n",
    "    F = F0+F1\n",
    "    F0 = F1\n",
    "    F1 = F\n",
    "print(\"le \",n,\"ieme terme de la suite de Fibonacci est : \",F1)"
   ]
  },
  {
   "cell_type": "markdown",
   "metadata": {},
   "source": [
    "___________________________________________________________________________\n",
    "## Pomodoro\n",
    "\n"
   ]
  },
  {
   "cell_type": "markdown",
   "metadata": {},
   "source": [
    "Soit à afficher 10 fois l'heure à partir de 20h42 avec des intervalles d'attente de 25 minutes. On obtient alors l'affichage suivant :\n",
    "\n",
    "    20 h 42\n",
    "    21 h 7\n",
    "    21 h 32\n",
    "    21 h 57\n",
    "    22 h 22\n",
    "    22 h 47\n",
    "    23 h 12                                                                                                                                                                                  \n",
    "    23 h 37                                                                                                                                                                                  \n",
    "    0 h 2                                                                                                                                                                                    \n",
    "    0 h 27\n",
    "Plus généralement, on donne un moment de la journée par\n",
    "\n",
    "\n",
    "- son nombre d'heures `h`,\n",
    "\n",
    "- son nombre de minutes `m`,\n",
    "\n",
    "par exemple, `h=20` et `m =42` ;\n",
    "\n",
    "on donne aussi\n",
    "\n",
    "\n",
    "- une période de temps, en minutes, par exemple `periode=25` en supposant que $\\mathtt{periode < 60}$\n",
    "\n",
    "- un nombre entier,  disons $\\mathtt{n\\geq 1}$\n",
    "\n",
    "et on demande d'afficher l'heure qu'il est aux `n` moments à partir de l'heure donnée et à intervalles réguliers de `periode` minutes. Le nombre d'heures affiché doit toujours être strictement inférieur à 24 et le nombre de minutes strictement inférieur à 60.\n",
    "\n"
   ]
  },
  {
   "cell_type": "code",
   "execution_count": 22,
   "metadata": {},
   "outputs": [
    {
     "name": "stdout",
     "output_type": "stream",
     "text": [
      "à partir de  20  h  42 mn, en ajoutant  10  fois  25  minutes, on obtient :  0  h  52 mn\n"
     ]
    }
   ],
   "source": [
    "# Votre code ICI\n",
    "h = 20\n",
    "m = 42\n",
    "h1 = h\n",
    "m1 = m\n",
    "periode = 25\n",
    "n = 10\n",
    "for i in range(n):\n",
    "    m = m+25\n",
    "    if (m >= 60):\n",
    "        m = m%60\n",
    "        h = h+1\n",
    "    if (h >= 24):\n",
    "        h = h-24\n",
    "print(\"à partir de \",h1,\" h \",m1,\"mn, en ajoutant \",n,\" fois \",periode,\" minutes, on obtient : \",h,\" h \",m,\"mn\")\n"
   ]
  },
  {
   "cell_type": "markdown",
   "metadata": {},
   "source": [
    "___________________________________________________________________________\n",
    "## Sommes de puissances de 2 ou de 3\n",
    "\n"
   ]
  },
  {
   "cell_type": "markdown",
   "metadata": {},
   "source": [
    "On donne un entier $\\mathtt{n>0}$ et on demande de calculer la somme suivante :\n",
    "\n",
    "$$S_n=3^1+2^2+3^3+2^ 4+\\dots+ ?^n$$\n",
    "\n",
    "Si l'exposant courant $k$ est pair, on ajoute $2^k$ sinon on ajoute $3^k$. La somme s'arrête lorsqu'elle contient $n$ termes. Par exemple, $S_4=3^1+2^2+3^3+2^4=3 + 4 + 27 + 16=50$ et $S_5=3^1+2^2+3^3+2^4+3^5=50+243=293$\n",
    "\n"
   ]
  },
  {
   "cell_type": "code",
   "execution_count": 25,
   "metadata": {},
   "outputs": [
    {
     "name": "stdout",
     "output_type": "stream",
     "text": [
      "somme :  293\n"
     ]
    }
   ],
   "source": [
    "# Votre code ICI\n",
    "from math import *\n",
    "somme = 0\n",
    "n = 5\n",
    "for i in range(1,n+1):\n",
    "    if ( i%2 == 0):\n",
    "        somme = somme+2**i\n",
    "    else:\n",
    "        somme = somme+3**i\n",
    "print(\"somme : \",somme)"
   ]
  },
  {
   "cell_type": "markdown",
   "metadata": {},
   "source": [
    "## Deviner un nombre"
   ]
  },
  {
   "cell_type": "markdown",
   "metadata": {},
   "source": [
    "Ecrire un programme qui permette d’essayer de deviner la valeur d’un nombre entier positif caché.\n",
    "\n",
    "Si la valeur saisie est supérieure ou inférieure, la machine affiche respectivement \"c’est moins\" ou \"c’est plus\" jusqu’à soit que le nombre soit trouvé ou que l’utilisateur abandonne la recherche en saississant -1.\n",
    "\n",
    "On suppose que celui qui saisi le nombre caché (qui ne sera pas affiché) n’est pas celui qui le cherche."
   ]
  },
  {
   "cell_type": "code",
   "execution_count": 31,
   "metadata": {},
   "outputs": [
    {
     "name": "stdout",
     "output_type": "stream",
     "text": [
      "entrez un nombre positif 32\n",
      "le nb inconnu est plus grand, retentez ! 50\n",
      "le nb inconnu est plus petit, retentez ! 40\n",
      "le nb inconnu est plus grand, retentez ! 45\n",
      "gagné !\n"
     ]
    }
   ],
   "source": [
    "# Votre code ICI\n",
    "n = 45\n",
    "d = int(input(\"entrez un nombre positif \"))\n",
    "while(d != n):\n",
    "    if(d < n):\n",
    "        d = int(input(\"le nb inconnu est plus grand, retentez ! \"))\n",
    "    else:\n",
    "        d = int(input(\"le nb inconnu est plus petit, retentez ! \"))\n",
    "print(\"gagné !\")"
   ]
  },
  {
   "cell_type": "markdown",
   "metadata": {},
   "source": [
    "## Population"
   ]
  },
  {
   "cell_type": "markdown",
   "metadata": {},
   "source": [
    "La population des Sims Alpha est de 10 000 000 d’habitants et elle augmente de 500 000 habitants par an. Celle des\n",
    "Sims Beta est de 5 000 000 habitants et elle augmente de 3% par an. Ecrire un algorithme permettant de déterminer dans combien d’années la population de Sims Beta dépassera celle des Sims Alpha."
   ]
  },
  {
   "cell_type": "code",
   "execution_count": 32,
   "metadata": {},
   "outputs": [
    {
     "name": "stdout",
     "output_type": "stream",
     "text": [
      "il faut  77  années avant que PopBeta dépasse popAlpha\n"
     ]
    }
   ],
   "source": [
    "# Votre code ICI\n",
    "popAlpha = 10000000\n",
    "popBeta = 5000000\n",
    "n = 0\n",
    "while (popAlpha > popBeta):\n",
    "    popAlpha = popAlpha+500000\n",
    "    popBeta = 1.03*popBeta\n",
    "    n = n+1\n",
    "print(\"il faut \",n,\" années avant que PopBeta dépasse popAlpha\")"
   ]
  },
  {
   "cell_type": "markdown",
   "metadata": {},
   "source": [
    "___________________________________________________________________________\n",
    "## Nombres parfaits\n",
    "\n"
   ]
  },
  {
   "cell_type": "markdown",
   "metadata": {},
   "source": [
    "1) Ecrire un programe qui affiche la liste des diviseurs d'un entier positif n.\n",
    "\n"
   ]
  },
  {
   "cell_type": "code",
   "execution_count": 37,
   "metadata": {},
   "outputs": [
    {
     "name": "stdout",
     "output_type": "stream",
     "text": [
      "liste des diviseurs de  54  : \n",
      "1  , 2  , 3  , 6  , 9  , 18  , 27  , 54\n"
     ]
    }
   ],
   "source": [
    "# Votre code ICI\n",
    "n = 54\n",
    "print(\"liste des diviseurs de \",n,\" : \")\n",
    "L = int((n - n%2)/2)\n",
    "for i in range(1,L+1):\n",
    "    if (n%i == 0):\n",
    "        print(i,\" , \",end = \"\")\n",
    "print(n)"
   ]
  },
  {
   "cell_type": "markdown",
   "metadata": {},
   "source": [
    "2) Un nombre n est parfait s'il est égal à la somme de ses diviseurs < n. voir https://fr.wikipedia.org/wiki/Nombre_parfait\n",
    "\n",
    "Par exemple 6 est parfait : ses diviseurs strictements inférieurs à 6 sont 1, 2 et 3 et 1+2+3 = 6.\n",
    "\n",
    "Ecrire un programme qui indique si un nombre est parfait ou non.\n",
    "le nombre 33 550 336 est parfait."
   ]
  },
  {
   "cell_type": "code",
   "execution_count": 41,
   "metadata": {},
   "outputs": [
    {
     "name": "stdout",
     "output_type": "stream",
     "text": [
      "33550336  est parfait :  True\n"
     ]
    }
   ],
   "source": [
    "# Votre code ICI\n",
    "n = 33550336\n",
    "L = int((n - n%2)/2)\n",
    "somme = 0\n",
    "for i in range(1,L+1):\n",
    "    if (n%i == 0):\n",
    "        somme = somme + i\n",
    "print(n,\" est parfait : \",n==somme)"
   ]
  },
  {
   "cell_type": "markdown",
   "metadata": {},
   "source": [
    "___________________________________________________________________________\n",
    "## Somme des chiffres d'un nombre\n",
    "\n"
   ]
  },
  {
   "cell_type": "markdown",
   "metadata": {},
   "source": [
    "Ecrire un programme qu calcule la somme des chifres d'un entier n.\n",
    "\n",
    "Par exemple pour n = 56349, le calcul done 5+6+3+4+9 = 27.\n"
   ]
  },
  {
   "cell_type": "code",
   "execution_count": 43,
   "metadata": {},
   "outputs": [
    {
     "name": "stdout",
     "output_type": "stream",
     "text": [
      "la somme des chiffres de  56349  est :  27\n"
     ]
    }
   ],
   "source": [
    "# Votre code ICI\n",
    "n = 56349\n",
    "n1 = n\n",
    "somme = 0\n",
    "while(n>0):\n",
    "    somme = somme+n%10\n",
    "    n = int((n - n%10)/10)\n",
    "print(\"la somme des chiffres de \",n1,\" est : \",somme)"
   ]
  },
  {
   "cell_type": "markdown",
   "metadata": {},
   "source": [
    "___________________________________________________________________________\n",
    "## du binaire au décimal\n",
    "\n"
   ]
  },
  {
   "cell_type": "markdown",
   "metadata": {},
   "source": [
    "Ecrire un programme qui convertisse un entier n écrit en binaire, en décimal.\n",
    "\n",
    "Par exemple avec n = 1011101, on obtient n = 93.\n"
   ]
  },
  {
   "cell_type": "code",
   "execution_count": 49,
   "metadata": {},
   "outputs": [
    {
     "name": "stdout",
     "output_type": "stream",
     "text": [
      "le nombre ( 1011101 )2 vaut en base 10 :  93\n"
     ]
    }
   ],
   "source": [
    "# Votre code ICI\n",
    "n = 1011101\n",
    "n1 = n\n",
    "somme = 0\n",
    "p = 0\n",
    "while(n>0):\n",
    "    i = n%10\n",
    "    somme = somme+ i*(2**p)\n",
    "    n = int((n - n%10)/10)\n",
    "    p = p+1\n",
    "print(\"le nombre (\",n1,\")2 vaut en base 10 : \",somme)\n",
    "    "
   ]
  },
  {
   "cell_type": "code",
   "execution_count": null,
   "metadata": {},
   "outputs": [],
   "source": []
  }
 ],
 "metadata": {
  "kernelspec": {
   "display_name": "Python 3 (ipykernel)",
   "language": "python",
   "name": "python3"
  },
  "language_info": {
   "codemirror_mode": {
    "name": "ipython",
    "version": 3
   },
   "file_extension": ".py",
   "mimetype": "text/x-python",
   "name": "python",
   "nbconvert_exporter": "python",
   "pygments_lexer": "ipython3",
   "version": "3.9.7"
  }
 },
 "nbformat": 4,
 "nbformat_minor": 4
}
