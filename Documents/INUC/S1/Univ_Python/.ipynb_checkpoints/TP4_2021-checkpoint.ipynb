{
 "cells": [
  {
   "cell_type": "markdown",
   "metadata": {},
   "source": [
    "# TP n°4 : Listes\n",
    "\n"
   ]
  },
  {
   "cell_type": "markdown",
   "metadata": {},
   "source": [
    "___________________________________________________________________________\n",
    "## Liste d' éléments\n",
    "\n"
   ]
  },
  {
   "cell_type": "markdown",
   "metadata": {},
   "source": [
    "1) On donne un entier $x$ et on compte de 10 en 10 trois fois à partir de x. Construire la liste $L$ qui contient les trois nombres obtenus. Par exemple, si x=42, la liste est formée des trois entiers 42, 52 et 62.\n",
    "\n"
   ]
  },
  {
   "cell_type": "code",
   "execution_count": 8,
   "metadata": {},
   "outputs": [
    {
     "name": "stdout",
     "output_type": "stream",
     "text": [
      "[42, 52, 62]\n"
     ]
    }
   ],
   "source": [
    "# Votre code ICI\n",
    "l = []\n",
    "x = 42\n",
    "for i in range(3) :\n",
    "    l.append(x+10*i)\n",
    "print(l)\n"
   ]
  },
  {
   "cell_type": "markdown",
   "metadata": {},
   "source": [
    "2) Soit k un entier positif. Cette fois la liste contient k éléments."
   ]
  },
  {
   "cell_type": "code",
   "execution_count": 9,
   "metadata": {},
   "outputs": [
    {
     "name": "stdin",
     "output_type": "stream",
     "text": [
      "Entrer la taille de la liste :  10\n"
     ]
    },
    {
     "name": "stdout",
     "output_type": "stream",
     "text": [
      "[42, 52, 62, 72, 82, 92, 102, 112, 122, 132]\n"
     ]
    }
   ],
   "source": [
    "# Votre code ICI\n",
    "l = []\n",
    "x = 42\n",
    "k = int(input(\"Entrer la taille de la liste : \"))\n",
    "for i in range(k) :\n",
    "    l.append(x+10*i)\n",
    "print(l)"
   ]
  },
  {
   "cell_type": "markdown",
   "metadata": {},
   "source": [
    "___________________________________________________________________________\n",
    "## Changer certains éléments d'une liste\n",
    "\n"
   ]
  },
  {
   "cell_type": "markdown",
   "metadata": {},
   "source": [
    "On donne une liste `L` d'entiers ayant au moins 2 valeurs. Modifier cette liste pour que les éléments situés en première et dernière position soient échangés.\n",
    "\n",
    "Par exemple, si `L = [31, 12, 81, 9, 65] ` alors, après modification, on aura `L = [65, 12, 81, 9, 31]`.\n",
    "\n"
   ]
  },
  {
   "cell_type": "code",
   "execution_count": 25,
   "metadata": {},
   "outputs": [
    {
     "name": "stdout",
     "output_type": "stream",
     "text": [
      "[5, 12, 81, 9, 90]\n"
     ]
    }
   ],
   "source": [
    "# Votre code ICI\n",
    "L = [90, 12, 81, 9, 5]\n",
    "i0 = L[0]\n",
    "L[0] = L[len(L)-1]\n",
    "L[len(L)-1] = i0\n",
    "\n",
    "print(L)\n",
    "    "
   ]
  },
  {
   "cell_type": "markdown",
   "metadata": {},
   "source": [
    "___________________________________________________________________________\n",
    "## Test de présence\n",
    "\n"
   ]
  },
  {
   "cell_type": "markdown",
   "metadata": {},
   "source": [
    "On donne\n",
    "\n",
    "\n",
    "- une liste d'entiers `L`\n",
    "\n",
    "- un entier `x`\n",
    "\n",
    "On rappelle que `x in L` est un booléen qui teste la présence de `x` dans la liste `L`.\n",
    "\n",
    "Construire un booléen `ok` qui vaut `True` si l'un des trois entiers `x`, `x - 1` et `x + 1` est dans la liste et `False` sinon. Exemple avec `x = 42` :\n",
    "\n",
    "\n",
    "- si `L =[31, 12, 42, 9, 65]` alors `ok = True`\n",
    "\n",
    "- si `L =[31, 12, 81, 43]` alors `ok = True`\n",
    "\n",
    "- si `L =[41]` alors `ok = True`\n",
    "\n",
    "- si `L =[31, 12, 81, 9, 65]` alors `ok = False`\n",
    "\n"
   ]
  },
  {
   "cell_type": "code",
   "execution_count": 37,
   "metadata": {},
   "outputs": [
    {
     "name": "stdout",
     "output_type": "stream",
     "text": [
      "True\n"
     ]
    }
   ],
   "source": [
    "# Votre code ICI\n",
    "L = [31, 12, 42, 9, 65]\n",
    "x = 30\n",
    "ok = False\n",
    "if (x in L) or ((x-1) in L) or ((x+1) in L) :\n",
    "    ok = True\n",
    "else :\n",
    "    ok = False\n",
    "print(ok)"
   ]
  },
  {
   "cell_type": "markdown",
   "metadata": {},
   "source": [
    "___________________________________________________________________________\n",
    "## Liste des solutions de l'équation du second degré\n",
    "\n"
   ]
  },
  {
   "cell_type": "markdown",
   "metadata": {},
   "source": [
    "Soit l'équation du second degré $ax^2+bx+c=0$. On supposera que $a,b,c$ sont des entiers, que $a$ est non nul et que l'inconnue $x$ est un nombre réel.\n",
    "\n",
    "On rappelle le code Python de la résolution  d'une équation du second degré :\n",
    "\n"
   ]
  },
  {
   "cell_type": "code",
   "execution_count": 9,
   "metadata": {},
   "outputs": [
    {
     "name": "stdout",
     "output_type": "stream",
     "text": [
      "2 solutions distinctes :\n",
      "x1 = -2.0\n",
      "x2 = -1.0\n"
     ]
    }
   ],
   "source": [
    "a = 1\n",
    "b = 3\n",
    "c = 2\n",
    "delta = b*b -4*a*c\n",
    "if a != 0:\n",
    "    if delta >0:\n",
    "        print(\"2 solutions distinctes :\")\n",
    "        print(\"x1 =\", (-b - delta**0.5)/(2.*a))\n",
    "        print(\"x2 =\", (-b + delta**0.5)/(2.*a))\n",
    "    else:\n",
    "        if delta == 0:\n",
    "            print(\"une seule solution\")\n",
    "            print(\"x =\", (-b)/(2.*a))\n",
    "        else:\n",
    "            print(\"Aucune solution\")\n",
    "else:\n",
    "    if b != 0:\n",
    "        print(\"une seule solution\")\n",
    "        print(\"x = \",-c/b)\n",
    "    else:\n",
    "        if c != 0:\n",
    "            print(\"Aucune solution\")\n",
    "        else:\n",
    "            print(\"une infinité de solutions : l'ensemble des réels\")\n",
    "        \n"
   ]
  },
  {
   "cell_type": "markdown",
   "metadata": {},
   "source": [
    "Adapter le code précédent pour construire la liste S contenant toutes les solutions de l'équation. Par exemple,\n",
    "\n",
    "\n",
    "- si a = 2, b=-3 et c = 1 alors   `S = [1, 0.5]`\n",
    "\n",
    "- si a = 4, b=4 et c = 1 alors   `S = [-0.5]`\n",
    "\n",
    "- si a = 4, b=4 et c = 4 alors   `S` est la liste vide\n",
    "\n",
    "- si a = 0, b=4 et c = 4 alors   `S = [-1]`\n",
    "\n",
    "etc ... (pour l'ensemble des réels vous laisserez l'affichage du message)\n",
    "\n"
   ]
  },
  {
   "cell_type": "code",
   "execution_count": null,
   "metadata": {},
   "outputs": [],
   "source": [
    "# Votre code ICI\n"
   ]
  },
  {
   "cell_type": "markdown",
   "metadata": {},
   "source": [
    "___________________________________________________________________________\n",
    "## Tester les mois de 31 jours avec une liste\n",
    "\n"
   ]
  },
  {
   "cell_type": "markdown",
   "metadata": {},
   "source": [
    "Construire une liste littérale `jours` telle que pour chaque numéro `i` entre 1 et 12 d'un mois d'une année non bissextile, `jours[i]` désigne le nombre de jours du mois de numéro `i`. Par exemple, `jours[10] = 31`.\n",
    "\n",
    "En déduire une variable booléenne `mois31` qui, étant donné un numéro de mois `i`, vaut `True` si le mois de numéro `i` possède 31 jours et `False` sinon.\n",
    "\n"
   ]
  },
  {
   "cell_type": "code",
   "execution_count": null,
   "metadata": {},
   "outputs": [],
   "source": [
    "# Votre code ICI\n"
   ]
  },
  {
   "cell_type": "markdown",
   "metadata": {},
   "source": [
    "## Comparaison de deux listes\n",
    "\n"
   ]
  },
  {
   "cell_type": "markdown",
   "metadata": {},
   "source": [
    "Deux listes sont identiques si et seulement si elles ont m^me nombre d'éléments et si les éléments de m^me indice sont égaux.\n",
    "\n",
    "Ecrire un programme testant si deux listes sont identiques ou pas.\n",
    "\n"
   ]
  },
  {
   "cell_type": "code",
   "execution_count": 62,
   "metadata": {},
   "outputs": [
    {
     "name": "stdout",
     "output_type": "stream",
     "text": [
      "False\n"
     ]
    }
   ],
   "source": [
    "# Votre code ICI\n",
    "L1= [1,2,3,5]\n",
    "L2= [1,2,3,4]\n",
    "same = False\n",
    "if (len(L1)==len(L2)) :\n",
    "    for i in range (len(L1)):\n",
    "        for j in range(len(L2)):\n",
    "            if L1[i] == L2[j] :\n",
    "                same = True\n",
    "            else : \n",
    "                same = False\n",
    "    print(same)\n",
    "else :\n",
    "    same= False\n",
    "    print(same)\n",
    "            "
   ]
  },
  {
   "cell_type": "markdown",
   "metadata": {},
   "source": [
    "___________________________________________________________________________\n",
    "## Somme suivant les indices impairs\n",
    "\n"
   ]
  },
  {
   "cell_type": "markdown",
   "metadata": {},
   "source": [
    "On donne une liste `L` d'entiers. Calculer la somme `s` des éléments de `L` dont l'indice est impair. Par exemple, si `L = [31, 12, 81, 9, 31]` alors `s = 21`.\n",
    "\n"
   ]
  },
  {
   "cell_type": "code",
   "execution_count": null,
   "metadata": {},
   "outputs": [],
   "source": [
    "# Votre code ICI\n"
   ]
  },
  {
   "cell_type": "markdown",
   "metadata": {},
   "source": [
    "___________________________________________________________________________\n",
    "## Calcul du minimum et son indice\n",
    "\n"
   ]
  },
  {
   "cell_type": "markdown",
   "metadata": {},
   "source": [
    "1) On donne une liste L d'entiers. Calculer le plus petit élément `mini` de la liste. Par exemple, si `L = [31, 9, 81, 9, 31]` alors `mini = 9`.\n",
    "\n"
   ]
  },
  {
   "cell_type": "code",
   "execution_count": null,
   "metadata": {},
   "outputs": [],
   "source": [
    "# Votre code ICI\n"
   ]
  },
  {
   "cell_type": "markdown",
   "metadata": {},
   "source": [
    "2) On donne une liste d'entiers. Déterminer un indice `i_mini` correspondant au plus petit élément `mini` de la liste. Par exemple\n",
    "\n",
    "\n",
    "- si `L = [31, 12, 81, 9, 31]` alors `mini = 9` et `i_mini = 3`\n",
    "\n",
    "- si `L = [31, 9, 81, 9, 31]` alors `mini = 9` et `i_mini = 1` (ou encore `i_mini = 3`)\n",
    "\n"
   ]
  },
  {
   "cell_type": "code",
   "execution_count": null,
   "metadata": {},
   "outputs": [],
   "source": [
    "# Votre code ICI\n"
   ]
  },
  {
   "cell_type": "markdown",
   "metadata": {},
   "source": [
    "___________________________________________________________________________\n",
    "## Minimum et son occurence\n",
    "\n"
   ]
  },
  {
   "cell_type": "markdown",
   "metadata": {},
   "source": [
    "On donne une liste `L` d'entiers. Calculez son `minimum` et son nombre d'occurence (cad le nb de fois ou le minimum apparaît dans la liste).\n",
    "\n",
    "Par exemple, si `L = [81, 32, 12, 9, 10, 65, 46,9,11,12,9,76]` alors `minimum = 9` et `nbOccurence = 3`\n",
    "\n"
   ]
  },
  {
   "cell_type": "code",
   "execution_count": null,
   "metadata": {},
   "outputs": [],
   "source": [
    "# Votre code ICI\n"
   ]
  },
  {
   "cell_type": "markdown",
   "metadata": {},
   "source": [
    "___________________________________________________________________________\n",
    "## Valeurs paires d'une liste\n",
    "\n"
   ]
  },
  {
   "cell_type": "markdown",
   "metadata": {},
   "source": [
    "Soit une liste `L` d'entiers. Séparer cette liste en deux listes :\n",
    "\n",
    "\n",
    "- la liste `P` des entiers pairs de `L`\n",
    "\n",
    "- la liste `I` des entiers impairs de `L`\n",
    "\n",
    "Par exemple, si `L = [31, 12, 9, 65, 81, 42]` alors `P = [12, 42]` et `I = [31, 9, 65, 81]`\n",
    "\n"
   ]
  },
  {
   "cell_type": "code",
   "execution_count": null,
   "metadata": {},
   "outputs": [],
   "source": [
    "# Votre code ICI\n"
   ]
  },
  {
   "cell_type": "markdown",
   "metadata": {},
   "source": [
    "___________________________________________________________________________\n",
    "## Indices pairs\n",
    "\n"
   ]
  },
  {
   "cell_type": "markdown",
   "metadata": {},
   "source": [
    "Soit une liste `L`. Séparer cette liste en deux listes :\n",
    "\n",
    "\n",
    "- la liste `IP` des éléments de `L` d'indices pairs\n",
    "\n",
    "- la liste `II` des éléments de `L` d'indices impairs\n",
    "\n",
    "Par exemple, si `L = [31, 12, 9, 65, 81, 42]` alors `IP = [31, 9, 81]` et `II = [12, 65, 42]`.\n",
    "\n"
   ]
  },
  {
   "cell_type": "code",
   "execution_count": null,
   "metadata": {},
   "outputs": [],
   "source": [
    "# Votre code ICI\n"
   ]
  },
  {
   "cell_type": "markdown",
   "metadata": {},
   "source": [
    "___________________________________________________________________________\n",
    "## Echanger côte à côte\n",
    "\n"
   ]
  },
  {
   "cell_type": "markdown",
   "metadata": {},
   "source": [
    "Soit une liste `L`. Modifier `L` pour que\n",
    "\n",
    "\n",
    "- le 1er élément et le 2ème élément soient échangés de position\n",
    "\n",
    "- le 3ème élément et le 4ème élément soient échangés de position\n",
    "\n",
    "- ...\n",
    "\n",
    "- et ainsi de suite jusqu'à ce que plus aucun échange ne soit possible.\n",
    "\n",
    "Par exemple,\n",
    "\n",
    "\n",
    "- si `L = [31, 12, 9, 65, 81, 42]` alors, après échanges, `L = [12, 31, 65, 9,42, 81]`\n",
    "\n",
    "- si `L = [31, 12, 9, 65, 81]` alors, après échanges, `L = [12, 31, 65, 9, 81]`\n",
    "\n",
    "- si `L = [31]` alors, après échange, `L = [31]`\n",
    "\n"
   ]
  },
  {
   "cell_type": "code",
   "execution_count": null,
   "metadata": {},
   "outputs": [],
   "source": [
    "# Votre code ICI\n"
   ]
  },
  {
   "cell_type": "markdown",
   "metadata": {},
   "source": [
    "___________________________________________________________________________\n",
    "## Inverser une liste\n",
    "\n"
   ]
  },
  {
   "cell_type": "markdown",
   "metadata": {},
   "source": [
    "Soit une liste `L`. Modifier `L` pour que\n",
    "\n",
    "\n",
    "- le 1er élément et le dernier élément soient échangés de position\n",
    "\n",
    "- le 2ème élément et l'avant-dernier élément soient échangés de position\n",
    "\n",
    "- ...\n",
    "\n",
    "- et ainsi de suite jusqu'à ce que tous les échanges possibles soient effectués.\n",
    "\n",
    "Par exemple,\n",
    "\n",
    "\n",
    "- si `L = [31, 12, 9, 65]` alors, après échanges, `L = [65, 9, 12, 31]`\n",
    "\n",
    "- si `L = [31, 12, 81, 9, 65]` alors, après échanges, `L = [65, 9, 81, 12, 31]`\n",
    "\n",
    "- si `L = [31]` alors, après échange, `L = [31]`\n",
    "\n"
   ]
  },
  {
   "cell_type": "code",
   "execution_count": null,
   "metadata": {},
   "outputs": [],
   "source": [
    "# Votre code ICI\n"
   ]
  },
  {
   "cell_type": "markdown",
   "metadata": {},
   "source": [
    "## Permuter les éléments d'une liste"
   ]
  },
  {
   "cell_type": "markdown",
   "metadata": {},
   "source": [
    "Permuter les éléments d'une liste.\n",
    "Exemple :\n",
    "\n",
    "si `L = [65, 9, 81, 12, 31]`, alors L de vient `L = [31, 65, 9, 81, 12]`\n",
    "\n",
    "vous n'utiliserez pas de deuxième liste ..."
   ]
  },
  {
   "cell_type": "code",
   "execution_count": null,
   "metadata": {},
   "outputs": [],
   "source": []
  },
  {
   "cell_type": "markdown",
   "metadata": {},
   "source": [
    "___________________________________________________________________________\n",
    "## Décompte pair/impair\n",
    "\n"
   ]
  },
  {
   "cell_type": "markdown",
   "metadata": {},
   "source": [
    "On donne une liste `L` d'entiers et on demande de calculer\n",
    "\n",
    "\n",
    "- le nombre  `n_pair` d'indices `i` tel que l'élément `L[i]` est pair\n",
    "\n",
    "- le nombre  `n_impair` d'indices `i` tel que l'élément `L[i]` est impair\n",
    "\n",
    "Par exemple, si `L = [31, 12, 9, 65, 81, 42]` alors `n_pair = 2` et `n_impair = 4`.\n",
    "\n"
   ]
  },
  {
   "cell_type": "code",
   "execution_count": null,
   "metadata": {},
   "outputs": [],
   "source": [
    "# Votre code ICI\n"
   ]
  }
 ],
 "metadata": {
  "kernelspec": {
   "display_name": "Python 3 (ipykernel)",
   "language": "python",
   "name": "python3"
  },
  "language_info": {
   "codemirror_mode": {
    "name": "ipython",
    "version": 3
   },
   "file_extension": ".py",
   "mimetype": "text/x-python",
   "name": "python",
   "nbconvert_exporter": "python",
   "pygments_lexer": "ipython3",
   "version": "3.9.7"
  }
 },
 "nbformat": 4,
 "nbformat_minor": 4
}
