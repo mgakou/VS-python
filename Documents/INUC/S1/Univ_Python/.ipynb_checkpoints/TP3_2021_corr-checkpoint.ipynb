{
 "cells": [
  {
   "cell_type": "markdown",
   "metadata": {},
   "source": [
    "# TP n°3 : Boucle for - Boucle While\n",
    "\n"
   ]
  },
  {
   "cell_type": "markdown",
   "metadata": {},
   "source": [
    "___________________________________________________________________________\n",
    "## multiples et pas multiples\n",
    "\n"
   ]
  },
  {
   "cell_type": "markdown",
   "metadata": {},
   "source": [
    "Combien y-a-t-il d'entiers entre 1 et 20000 qui sont multiples de 7 mais pas multiples de 9 ? \n",
    "\n",
    "Le nombre à trouver est 2540.\n",
    "\n"
   ]
  },
  {
   "cell_type": "code",
   "execution_count": null,
   "metadata": {},
   "outputs": [],
   "source": [
    "# Votre code ICI\n"
   ]
  },
  {
   "cell_type": "markdown",
   "metadata": {},
   "source": [
    "___________________________________________________________________________\n",
    "## Somme de $n$ entiers consécutifs à partir de $d$\n",
    "\n"
   ]
  },
  {
   "cell_type": "markdown",
   "metadata": {},
   "source": [
    "On vous donne deux entiers positifs `d` et `n`. On vous demande de calculer la somme des `n` entiers consécutifs à partir de `d`. Par exemple, si $d=10$ et $n=4$, vous devez calculer $10+11+12+13=46$. Voici d'autres exemples :\n",
    "\n",
    "    (d, n) = (10, 1) -> 10\n",
    "    (d, n) = (10, 2) -> 21\n",
    "    (d, n) = (10, 100) -> 5950\n"
   ]
  },
  {
   "cell_type": "code",
   "execution_count": null,
   "metadata": {},
   "outputs": [],
   "source": [
    "# Votre code ICI\n"
   ]
  },
  {
   "cell_type": "markdown",
   "metadata": {},
   "source": [
    "___________________________________________________________________________\n",
    "## Somme d'entiers pairs consécutifs\n",
    "\n"
   ]
  },
  {
   "cell_type": "markdown",
   "metadata": {},
   "source": [
    "On donne un entier $N\\ge 0$ et on demande de calculer la somme des $N$ premiers entiers pairs, c'est-à-dire\n",
    "\n",
    "$$2, 4, 6, 8, 10 \\text{etc}  $$\n",
    "\n",
    "Par exemple, si $N=6$, on trouvera $2 + 4 + 6 + 8 + 10 + 12 = 42$.\n",
    "\n",
    "Vérifier dans vos tests que cette somme vaut toujours $N(N+1)$.\n",
    "\n"
   ]
  },
  {
   "cell_type": "code",
   "execution_count": null,
   "metadata": {},
   "outputs": [],
   "source": [
    "# Votre code ICI\n"
   ]
  },
  {
   "cell_type": "markdown",
   "metadata": {},
   "source": [
    "___________________________________________________________________________\n",
    "## Suite de Fibonacci\n",
    "\n"
   ]
  },
  {
   "cell_type": "markdown",
   "metadata": {},
   "source": [
    "On considère la suite de nombres entiers dont les deux premiers termes sont :\n",
    "\n",
    "$F_0$ = 1, et $F_1$ = 1.\n",
    "    \n",
    "Les termes suivants de cette suite sont construit de la manière suivante :\n",
    "\n",
    "$F_n$ = $F_{n-1}$ + $F_{n-2}$\n",
    "\n",
    "( voir https://fr.wikipedia.org/wiki/Suite_de_Fibonacci )\n",
    "\n",
    "Ecrire un code qui à partir d'un entier $n\\geq0$ affiche le $n^{\\text{e}}$ terme de la suite. Exemple de comportements selon la valeur de `n` :\n",
    "\n",
    "    3 -> 2\n",
    "    11 -> 89\n",
    "    16 -> 987\n"
   ]
  },
  {
   "cell_type": "code",
   "execution_count": null,
   "metadata": {},
   "outputs": [],
   "source": [
    "# Votre code ICI\n"
   ]
  },
  {
   "cell_type": "markdown",
   "metadata": {},
   "source": [
    "___________________________________________________________________________\n",
    "## Pomodoro\n",
    "\n"
   ]
  },
  {
   "cell_type": "markdown",
   "metadata": {},
   "source": [
    "Soit à afficher 10 fois l'heure à partir de 20h42 avec des intervalles d'attente de 25 minutes. On obtient alors l'affichage suivant :\n",
    "\n",
    "    20 h 42\n",
    "    21 h 7\n",
    "    21 h 32\n",
    "    21 h 57\n",
    "    22 h 22\n",
    "    22 h 47\n",
    "    23 h 12                                                                                                                                                                                  \n",
    "    23 h 37                                                                                                                                                                                  \n",
    "    0 h 2                                                                                                                                                                                    \n",
    "    0 h 27\n",
    "Plus généralement, on donne un moment de la journée par\n",
    "\n",
    "\n",
    "- son nombre d'heures `h`,\n",
    "\n",
    "- son nombre de minutes `m`,\n",
    "\n",
    "par exemple, `h=20` et `m =42` ;\n",
    "\n",
    "on donne aussi\n",
    "\n",
    "\n",
    "- une période de temps, en minutes, par exemple `periode=25` en supposant que $\\mathtt{periode < 60}$\n",
    "\n",
    "- un nombre entier,  disons $\\mathtt{n\\geq 1}$\n",
    "\n",
    "et on demande d'afficher l'heure qu'il est aux `n` moments à partir de l'heure donnée et à intervalles réguliers de `periode` minutes. Le nombre d'heures affiché doit toujours être strictement inférieur à 24 et le nombre de minutes strictement inférieur à 60.\n",
    "\n"
   ]
  },
  {
   "cell_type": "code",
   "execution_count": null,
   "metadata": {},
   "outputs": [],
   "source": [
    "# Votre code ICI\n"
   ]
  },
  {
   "cell_type": "markdown",
   "metadata": {},
   "source": [
    "___________________________________________________________________________\n",
    "## Sommes de puissances de 2 ou de 3\n",
    "\n"
   ]
  },
  {
   "cell_type": "markdown",
   "metadata": {},
   "source": [
    "On donne un entier $\\mathtt{n>0}$ et on demande de calculer la somme suivante :\n",
    "\n",
    "$$S_n=3^1+2^2+3^3+2^ 4+\\dots+ ?^n$$\n",
    "\n",
    "Si l'exposant courant $k$ est pair, on ajoute $2^k$ sinon on ajoute $3^k$. La somme s'arrête lorsqu'elle contient $n$ termes. Par exemple, $S_4=3^1+2^2+3^3+2^4=3 + 4 + 27 + 16=50$ et $S_5=3^1+2^2+3^3+2^4+3^5=50+243=293$\n",
    "\n"
   ]
  },
  {
   "cell_type": "code",
   "execution_count": null,
   "metadata": {},
   "outputs": [],
   "source": [
    "# Votre code ICI\n"
   ]
  },
  {
   "cell_type": "markdown",
   "metadata": {},
   "source": [
    "## Deviner un nombre"
   ]
  },
  {
   "cell_type": "markdown",
   "metadata": {},
   "source": [
    "Ecrire un programme qui permette d’essayer de deviner la valeur d’un nombre entier positif caché.\n",
    "\n",
    "Si la valeur saisie est supérieure ou inférieure, la machine affiche respectivement \"c’est moins\" ou \"c’est plus\" jusqu’à soit que le nombre soit trouvé ou que l’utilisateur abandonne la recherche en saississant -1.\n",
    "\n",
    "On suppose que celui qui saisi le nombre caché (qui ne sera pas affiché) n’est pas celui qui le cherche."
   ]
  },
  {
   "cell_type": "code",
   "execution_count": null,
   "metadata": {},
   "outputs": [],
   "source": [
    "# Votre code ICI\n"
   ]
  },
  {
   "cell_type": "markdown",
   "metadata": {},
   "source": [
    "## Population"
   ]
  },
  {
   "cell_type": "markdown",
   "metadata": {},
   "source": [
    "La population des Sims Alpha est de 10 000 000 d’habitants et elle augmente de 500 000 habitants par an. Celle des\n",
    "Sims Beta est de 5 000 000 habitants et elle augmente de 3% par an. Ecrire un algorithme permettant de déterminer dans combien d’années la population de Sims Beta dépassera celle des Sims Alpha."
   ]
  },
  {
   "cell_type": "code",
   "execution_count": null,
   "metadata": {},
   "outputs": [],
   "source": [
    "# Votre code ICI\n"
   ]
  },
  {
   "cell_type": "markdown",
   "metadata": {},
   "source": [
    "___________________________________________________________________________\n",
    "## Nombres parfaits\n",
    "\n"
   ]
  },
  {
   "cell_type": "markdown",
   "metadata": {},
   "source": [
    "1) Ecrire un programe qui affiche la liste des diviseurs d'un entier positif n.\n",
    "\n"
   ]
  },
  {
   "cell_type": "code",
   "execution_count": null,
   "metadata": {},
   "outputs": [],
   "source": [
    "# Votre code ICI\n"
   ]
  },
  {
   "cell_type": "markdown",
   "metadata": {},
   "source": [
    "2) Un nombre n est parfait s'il est égal à la somme de ses diviseurs < n. voir https://fr.wikipedia.org/wiki/Nombre_parfait\n",
    "\n",
    "Par exemple 6 est parfait : ses diviseurs strictements inférieurs à 6 sont 1, 2 et 3 et 1+2+3 = 6.\n",
    "\n",
    "Ecrire un programme qui indique si un nombre est parfait ou non.\n",
    "le nombre 33 550 336 est parfait."
   ]
  },
  {
   "cell_type": "code",
   "execution_count": null,
   "metadata": {},
   "outputs": [],
   "source": [
    "# Votre code ICI\n"
   ]
  },
  {
   "cell_type": "markdown",
   "metadata": {},
   "source": [
    "___________________________________________________________________________\n",
    "## Somme des chiffres d'un nombre\n",
    "\n"
   ]
  },
  {
   "cell_type": "markdown",
   "metadata": {},
   "source": [
    "Ecrire un programme qu calcule la somme des chifres d'un entier n.\n",
    "\n",
    "Par exemple pour n = 56349, le calcul done 5+6+3+4+9 = 27.\n"
   ]
  },
  {
   "cell_type": "code",
   "execution_count": null,
   "metadata": {},
   "outputs": [],
   "source": [
    "# Votre code ICI\n"
   ]
  },
  {
   "cell_type": "markdown",
   "metadata": {},
   "source": [
    "___________________________________________________________________________\n",
    "## du binaire au décimal\n",
    "\n"
   ]
  },
  {
   "cell_type": "markdown",
   "metadata": {},
   "source": [
    "Ecrire un programme qui convertisse un entier n écrit en binaire, en décimal.\n",
    "\n",
    "Par exemple avec n = 1011101, on obtient n = 93.\n"
   ]
  },
  {
   "cell_type": "code",
   "execution_count": null,
   "metadata": {},
   "outputs": [],
   "source": [
    "# Votre code ICI\n"
   ]
  }
 ],
 "metadata": {
  "kernelspec": {
   "display_name": "Python 3",
   "language": "python",
   "name": "python3"
  },
  "language_info": {
   "codemirror_mode": {
    "name": "ipython",
    "version": 3
   },
   "file_extension": ".py",
   "mimetype": "text/x-python",
   "name": "python",
   "nbconvert_exporter": "python",
   "pygments_lexer": "ipython3",
   "version": "3.8.3"
  }
 },
 "nbformat": 4,
 "nbformat_minor": 1
}
