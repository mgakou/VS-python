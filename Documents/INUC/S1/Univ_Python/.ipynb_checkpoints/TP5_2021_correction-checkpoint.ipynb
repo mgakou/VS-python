{
 "cells": [
  {
   "cell_type": "markdown",
   "metadata": {},
   "source": [
    "## TP5 : boucles imbriquées - listes de listes"
   ]
  },
  {
   "cell_type": "markdown",
   "metadata": {},
   "source": [
    "## Clôturer un champ"
   ]
  },
  {
   "cell_type": "markdown",
   "metadata": {},
   "source": [
    "Soit un entier positif n.\n",
    "affichez un carré creux formé de ronds.\n",
    "\n",
    "Par exemple, pour n = 5 vous obtiendrez :\n",
    "\n",
    "    o o o o o\n",
    "    o       o\n",
    "    o       o\n",
    "    o       o\n",
    "    o o o o o\n",
    "\n",
    "\n"
   ]
  },
  {
   "cell_type": "code",
   "execution_count": 2,
   "metadata": {},
   "outputs": [
    {
     "name": "stdout",
     "output_type": "stream",
     "text": [
      "o o o o o \n",
      "o       o \n",
      "o       o \n",
      "o       o \n",
      "o o o o o "
     ]
    }
   ],
   "source": [
    "# Votre code ICI\n",
    "n = 5\n",
    "for i in range(n):\n",
    "    print(\"o \",end = \"\")\n",
    "print(\"\")\n",
    "for i in range(n-2):\n",
    "    print(\"o \",end = \"\")\n",
    "    for j in range(n-2):\n",
    "        print(\"  \",end = \"\")\n",
    "    print(\"o \")\n",
    "for i in range(n):\n",
    "    print(\"o \",end = \"\")"
   ]
  },
  {
   "cell_type": "markdown",
   "metadata": {},
   "source": [
    "## liste de nombres premiers"
   ]
  },
  {
   "cell_type": "markdown",
   "metadata": {},
   "source": [
    "1) écrire un programme pour savoir si un nombre n donné est premier ou pas.\n",
    "\n",
    "rappel : Un nombre est premier s'il n'est divisible que par 1 et lui-même. \n",
    "\n",
    "( https://fr.wikipedia.org/wiki/Nombre_premier )"
   ]
  },
  {
   "cell_type": "code",
   "execution_count": 4,
   "metadata": {},
   "outputs": [
    {
     "name": "stdout",
     "output_type": "stream",
     "text": [
      "False\n"
     ]
    }
   ],
   "source": [
    "# Votre code ICI\n",
    "n = 131\n",
    "estPremier = True\n",
    "i = 2\n",
    "while(estPremier and n%i != 0 and i <n):\n",
    "    i = i+1\n",
    "if (i < n-1):\n",
    "    estPremier = False\n",
    "print(estPremier)\n",
    "    "
   ]
  },
  {
   "cell_type": "markdown",
   "metadata": {},
   "source": [
    "2) écrire un code qui affiche les N premiers nombres premiers. \n",
    "(et non pas les nombres premiers inférieurs ou égaux à N)"
   ]
  },
  {
   "cell_type": "code",
   "execution_count": 11,
   "metadata": {},
   "outputs": [
    {
     "name": "stdout",
     "output_type": "stream",
     "text": [
      "2\n",
      "3\n",
      "5\n",
      "7\n",
      "11\n",
      "13\n",
      "17\n",
      "19\n",
      "23\n",
      "29\n",
      "31\n",
      "37\n",
      "41\n",
      "43\n",
      "47\n"
     ]
    }
   ],
   "source": [
    "# Votre code ICI\n",
    "N = 15\n",
    "cpt = 0\n",
    "n = 2\n",
    "while (cpt < 15):\n",
    "    estPremier = True\n",
    "    i = 2\n",
    "    while(estPremier and n%i != 0 and i <n):\n",
    "        i = i+1\n",
    "    if (i < n-1):\n",
    "        estPremier = False\n",
    "    if (estPremier):\n",
    "        print(i)\n",
    "        cpt = cpt + 1\n",
    "    n = n+1\n",
    "    "
   ]
  },
  {
   "cell_type": "markdown",
   "metadata": {},
   "source": [
    "## Damier de nombres"
   ]
  },
  {
   "cell_type": "markdown",
   "metadata": {},
   "source": [
    "Réaliser un programme qui affiche un damier de forme carrée, de côté de longueur $n>0$ et rempli alternativement du nombre 4 et du nombre 2. La case en haut à gauche sera toujours 4. Par exemple, pour $n=7$, le damier aura l'allure suivante :\n",
    "\n",
    "    4 2 4 2 4 2 4\n",
    "    2 4 2 4 2 4 2\n",
    "    4 2 4 2 4 2 4\n",
    "    2 4 2 4 2 4 2\n",
    "    4 2 4 2 4 2 4\n",
    "    2 4 2 4 2 4 2\n",
    "    4 2 4 2 4 2 4\n",
    "Il est possible de coder l'exercice de plusieurs façons. On pourra imaginer que la grille est numérotée par ligne et par colonne et on remarquera que tous les 4 de la grille sont à des indices de ligne et de colonne qui ont toujours la même parité (soit les deux indices sont pairs, soit les deux indices sont impairs)."
   ]
  },
  {
   "cell_type": "code",
   "execution_count": 12,
   "metadata": {},
   "outputs": [
    {
     "name": "stdout",
     "output_type": "stream",
     "text": [
      "4 2 4 2 4 2 4 \n",
      "2 4 2 4 2 4 2 \n",
      "4 2 4 2 4 2 4 \n",
      "2 4 2 4 2 4 2 \n",
      "4 2 4 2 4 2 4 \n",
      "2 4 2 4 2 4 2 \n",
      "4 2 4 2 4 2 4 \n"
     ]
    }
   ],
   "source": [
    "# Votre code ICI\n",
    "n = 7\n",
    "for i in range(n):\n",
    "    for j in range(n):\n",
    "        if (i+j)%2 == 0 :\n",
    "            print(\"4 \",end = \"\")\n",
    "        else:\n",
    "            print(\"2 \",end = \"\")\n",
    "    print(\"\")"
   ]
  },
  {
   "cell_type": "markdown",
   "metadata": {},
   "source": [
    "## Dessine moi un triangle"
   ]
  },
  {
   "cell_type": "markdown",
   "metadata": {},
   "source": [
    "Soit N un entier impair.\n",
    "Affichez un triangle d'étoiles centré utilisant N lignes.\n",
    "\n",
    "Pour N = 5 vous obtiendrez : \n",
    "\n",
    "            * \n",
    "           ***   \n",
    "          *****    \n",
    "         *******    \n",
    "        *********\n",
    "\n"
   ]
  },
  {
   "cell_type": "code",
   "execution_count": 15,
   "metadata": {},
   "outputs": [
    {
     "name": "stdout",
     "output_type": "stream",
     "text": [
      "    *\n",
      "   ***\n",
      "  *****\n",
      " *******\n",
      "*********\n"
     ]
    }
   ],
   "source": [
    "# Votre code ICI\n",
    "N = 5\n",
    "nbEtoiles = 1\n",
    "for i in range(N):\n",
    "    for j in range(N-1-i):\n",
    "        print(\" \",end = \"\")\n",
    "    for j in range(nbEtoiles):\n",
    "        print(\"*\",end = \"\")\n",
    "    print(\"\")\n",
    "    nbEtoiles = nbEtoiles+2"
   ]
  },
  {
   "cell_type": "markdown",
   "metadata": {},
   "source": [
    "## Nombres de Harshad"
   ]
  },
  {
   "cell_type": "markdown",
   "metadata": {},
   "source": [
    "On dit qu'un entier `n>0` est un nombre de Harshad s'il est divisible par la somme de ses chiffres. Par exemple, 42 est un nombre de Harshad car la somme de ses chiffres est 6 et 42 est un multiple de 6. En revanche, 32 n'est pas un nombre de Harshad puisque 32 n'est pas un multiple de 5.\n",
    "\n",
    "Déterminer la liste des nombres de Harshad ayant 1, 2 ou 3 chiffres (on trouvera une liste de 212 entiers). On utilisera 3 boucles `for` imbriquées.\n"
   ]
  },
  {
   "cell_type": "code",
   "execution_count": 38,
   "metadata": {},
   "outputs": [
    {
     "name": "stdout",
     "output_type": "stream",
     "text": [
      "212\n"
     ]
    }
   ],
   "source": [
    "# Votre code ICI : sans les 3 bcles imbriquées ...\n",
    "N = 1000\n",
    "L=[]\n",
    "for i in range(1,N):\n",
    "    n = i\n",
    "    s = n%10\n",
    "    n = (n-n%10)//10\n",
    "    s = s+n%10\n",
    "    n = (n-n%10)//10\n",
    "    s = s+n%10\n",
    "    if(i%s == 0):\n",
    "        L.append(i)\n",
    "print(len(L))\n",
    "    "
   ]
  },
  {
   "cell_type": "markdown",
   "metadata": {},
   "source": [
    "## Construction et affichage d'une liste de liste"
   ]
  },
  {
   "cell_type": "markdown",
   "metadata": {},
   "source": [
    "1) remplir une liste de listes à n lignes et n colonne avec des entiers pris au hasard entre 0 et 9."
   ]
  },
  {
   "cell_type": "code",
   "execution_count": 19,
   "metadata": {},
   "outputs": [
    {
     "name": "stdout",
     "output_type": "stream",
     "text": [
      "[5, 4, 5, 1, 5, 2, 9, 9, 1, 9, 9, 6, 2, 0, 7, 5, 7, 5, 4, 4, 7, 0, 8, 1, 3, 1, 8, 2, 1, 8]\n"
     ]
    }
   ],
   "source": [
    "# Votre code ICI\n",
    "import random\n",
    "L = []\n",
    "n = 30\n",
    "for i in range(n):\n",
    "    L.append(random.randrange(10))\n",
    "print(L)"
   ]
  },
  {
   "cell_type": "markdown",
   "metadata": {},
   "source": [
    "2) afficher cette liste sans les crochets.\n",
    "\n",
    "par exemple vous obtiendrez avec une matrice 4 lignes et 4 colonnes :\n",
    "\n",
    "    1 6 8 3 \n",
    "    3 6 5 1\n",
    "    6 4 9 7\n",
    "    9 6 8 7\n",
    "\n"
   ]
  },
  {
   "cell_type": "code",
   "execution_count": 24,
   "metadata": {},
   "outputs": [
    {
     "name": "stdout",
     "output_type": "stream",
     "text": [
      "5  4  5  1  5  2  9  \n",
      "9  1  9  9  6  2  0  \n",
      "7  5  7  5  4  4  7  \n",
      "0  8  1  3  1  8  2  \n",
      "1  8  \n"
     ]
    }
   ],
   "source": [
    "# Votre code ICI\n",
    "nbcol = 7\n",
    "ind = 0\n",
    "while ind < len(L):\n",
    "    i = 0\n",
    "    while(ind<len(L) and i < nbcol):\n",
    "        print(L[ind],\" \",end = \"\")\n",
    "        ind = ind+1\n",
    "        i = i+1\n",
    "    print(\"\")"
   ]
  },
  {
   "cell_type": "markdown",
   "metadata": {},
   "source": [
    "## Matrice symétrique"
   ]
  },
  {
   "cell_type": "markdown",
   "metadata": {},
   "source": [
    "Soit une matrice M à n lignes, n colonnes stockée dans une liste de n listes à n éléments entiers.\n",
    "\n",
    "M est symétrique si pour tout i et j indices respectivement de lignes et colonnes on a M[i][j] = M[j][i].\n",
    "\n",
    "Par exemple la matrice suivante est symétrique : \n",
    "\n",
    "    1 6 8 3 \n",
    "    6 6 5 1\n",
    "    8 5 9 7\n",
    "    3 1 7 7\n",
    "\n",
    "tandis que celle-ci ne l'est pas :\n",
    "\n",
    "    1 6 8 3 \n",
    "    3 6 5 1\n",
    "    6 4 9 7\n",
    "    9 6 8 7\n",
    "    \n",
    "écrire un code indiquant si une matrice est symétrique ou non."
   ]
  },
  {
   "cell_type": "code",
   "execution_count": 25,
   "metadata": {},
   "outputs": [
    {
     "name": "stdout",
     "output_type": "stream",
     "text": [
      "True\n"
     ]
    }
   ],
   "source": [
    "# Votre code ICI\n",
    "M = [[1,6,8,3],[6,6,5,1],[8,5,9,7],[3,1,7,7]]\n",
    "estSymetrique = True\n",
    "for i in range(len(M)):\n",
    "    for j in range(i):\n",
    "        if ( M[i][j] != M[j][i]):\n",
    "            estSymetrique = False\n",
    "print(estSymetrique)"
   ]
  },
  {
   "cell_type": "markdown",
   "metadata": {},
   "source": [
    "## Construction d'une matrice symétrique"
   ]
  },
  {
   "cell_type": "markdown",
   "metadata": {},
   "source": [
    "construisez une matrice symétrique à n lignes et n colonnes avec des entiers entre 0 et 9 pris au hasard."
   ]
  },
  {
   "cell_type": "code",
   "execution_count": 33,
   "metadata": {},
   "outputs": [
    {
     "name": "stdout",
     "output_type": "stream",
     "text": [
      "2  6  9  1  5  \n",
      "6  3  6  9  3  \n",
      "9  6  9  8  9  \n",
      "1  9  8  3  0  \n",
      "5  3  9  0  9  \n"
     ]
    }
   ],
   "source": [
    "# Votre code ICI\n",
    "import random\n",
    "n = 5\n",
    "M = []\n",
    "for i in range(n):\n",
    "    M.append([])\n",
    "    for j in range(n):\n",
    "        M[i].append(0)\n",
    "for i in range(n):\n",
    "    for j in range(i+1):\n",
    "        M[i][j] = random.randrange(10)\n",
    "        M[j][i] = M[i][j]\n",
    "\n",
    "for i in range(n):\n",
    "    for j in range(n):\n",
    "        print(M[i][j],\" \",end=\"\")\n",
    "    print(\"\")"
   ]
  },
  {
   "cell_type": "code",
   "execution_count": null,
   "metadata": {},
   "outputs": [],
   "source": []
  }
 ],
 "metadata": {
  "kernelspec": {
   "display_name": "Python 3",
   "language": "python",
   "name": "python3"
  },
  "language_info": {
   "codemirror_mode": {
    "name": "ipython",
    "version": 3
   },
   "file_extension": ".py",
   "mimetype": "text/x-python",
   "name": "python",
   "nbconvert_exporter": "python",
   "pygments_lexer": "ipython3",
   "version": "3.8.3"
  }
 },
 "nbformat": 4,
 "nbformat_minor": 4
}
