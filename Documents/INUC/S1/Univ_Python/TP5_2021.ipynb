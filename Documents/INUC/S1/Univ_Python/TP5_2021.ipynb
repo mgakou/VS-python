{
 "cells": [
  {
   "cell_type": "markdown",
   "metadata": {},
   "source": [
    "## TP5 : boucles imbriquées - listes de listes"
   ]
  },
  {
   "cell_type": "markdown",
   "metadata": {},
   "source": [
    "## Clôturer un champ"
   ]
  },
  {
   "cell_type": "markdown",
   "metadata": {},
   "source": [
    "Soit un entier positif n.\n",
    "affichez un carré creux formé de ronds.\n",
    "\n",
    "Par exemple, pour n = 5 vous obtiendrez :\n",
    "\n",
    "    o o o o o\n",
    "    o       o\n",
    "    o       o\n",
    "    o       o\n",
    "    o o o o o\n",
    "\n",
    "\n"
   ]
  },
  {
   "cell_type": "code",
   "execution_count": 29,
   "metadata": {},
   "outputs": [
    {
     "name": "stdout",
     "output_type": "stream",
     "text": [
      "o o o o o \n",
      "o       o       o       "
     ]
    }
   ],
   "source": [
    "# Votre code ICI\n",
    "n = 5\n",
    "for i in range (n):\n",
    "    print(\"o \", end=\"\")\n",
    "print(\"\")\n",
    "for i in range(n-2):\n",
    "    print(\"o \",end=\"\")\n",
    "    for j in range(n-2):\n",
    "        print(\"  \",end=\"\")"
   ]
  },
  {
   "cell_type": "markdown",
   "metadata": {},
   "source": [
    "## liste de nombres premiers"
   ]
  },
  {
   "cell_type": "markdown",
   "metadata": {},
   "source": [
    "1) écrire un programme pour savoir si un nombre n donné est premier ou pas.\n",
    "\n",
    "rappel : Un nombre est premier s'il n'est divisible que par 1 et lui-même. \n",
    "\n",
    "( https://fr.wikipedia.org/wiki/Nombre_premier )"
   ]
  },
  {
   "cell_type": "code",
   "execution_count": null,
   "metadata": {},
   "outputs": [],
   "source": [
    "# Votre code ICI\n"
   ]
  },
  {
   "cell_type": "markdown",
   "metadata": {},
   "source": [
    "2) écrire un code qui affiche les N premiers nombres premiers. \n",
    "(et non pas les nombres premiers inférieurs ou égaux à N)"
   ]
  },
  {
   "cell_type": "code",
   "execution_count": null,
   "metadata": {},
   "outputs": [],
   "source": [
    "# Votre code ICI\n"
   ]
  },
  {
   "cell_type": "markdown",
   "metadata": {},
   "source": [
    "## Damier de nombres"
   ]
  },
  {
   "cell_type": "markdown",
   "metadata": {},
   "source": [
    "Réaliser un programme qui affiche un damier de forme carrée, de côté de longueur $n>0$ et rempli alternativement du nombre 4 et du nombre 2. La case en haut à gauche sera toujours 4. Par exemple, pour $n=7$, le damier aura l'allure suivante :\n",
    "\n",
    "    4 2 4 2 4 2 4\n",
    "    2 4 2 4 2 4 2\n",
    "    4 2 4 2 4 2 4\n",
    "    2 4 2 4 2 4 2\n",
    "    4 2 4 2 4 2 4\n",
    "    2 4 2 4 2 4 2\n",
    "    4 2 4 2 4 2 4\n",
    "Il est possible de coder l'exercice de plusieurs façons. On pourra imaginer que la grille est numérotée par ligne et par colonne et on remarquera que tous les 4 de la grille sont à des indices de ligne et de colonne qui ont toujours la même parité (soit les deux indices sont pairs, soit les deux indices sont impairs)."
   ]
  },
  {
   "cell_type": "code",
   "execution_count": null,
   "metadata": {},
   "outputs": [],
   "source": [
    "# Votre code ICI\n"
   ]
  },
  {
   "cell_type": "markdown",
   "metadata": {},
   "source": [
    "## Dessine moi un triangle"
   ]
  },
  {
   "cell_type": "markdown",
   "metadata": {},
   "source": [
    "Soit N un entier impair.\n",
    "Affichez un triangle d'étoiles centré utilisant N lignes.\n",
    "\n",
    "Pour N = 5 vous obtiendrez : \n",
    "\n",
    "            * \n",
    "           ***   \n",
    "          *****    \n",
    "         *******    \n",
    "        *********\n",
    "\n"
   ]
  },
  {
   "cell_type": "code",
   "execution_count": null,
   "metadata": {},
   "outputs": [],
   "source": [
    "# Votre code ICI\n"
   ]
  },
  {
   "cell_type": "markdown",
   "metadata": {},
   "source": [
    "## Nombres de Harshad"
   ]
  },
  {
   "cell_type": "markdown",
   "metadata": {},
   "source": [
    "On dit qu'un entier `n>0` est un nombre de Harshad s'il est divisible par la somme de ses chiffres. Par exemple, 42 est un nombre de Harshad car la somme de ses chiffres est 6 et 42 est un multiple de 6. En revanche, 32 n'est pas un nombre de Harshad puisque 32 n'est pas un multiple de 5.\n",
    "\n",
    "Déterminer la liste des nombres de Harshad ayant 1, 2 ou 3 chiffres (on trouvera une liste de 212 entiers). On utilisera 3 boucles `for` imbriquées.\n"
   ]
  },
  {
   "cell_type": "code",
   "execution_count": null,
   "metadata": {},
   "outputs": [],
   "source": [
    "# Votre code ICI\n"
   ]
  },
  {
   "cell_type": "markdown",
   "metadata": {},
   "source": [
    "## Construction et affichage d'une liste de liste"
   ]
  },
  {
   "cell_type": "markdown",
   "metadata": {},
   "source": [
    "1) remplir une liste de listes à n lignes et n colonne avec des entiers pris au hasard entre 0 et 9."
   ]
  },
  {
   "cell_type": "code",
   "execution_count": null,
   "metadata": {},
   "outputs": [],
   "source": [
    "# Votre code ICI\n"
   ]
  },
  {
   "cell_type": "markdown",
   "metadata": {},
   "source": [
    "2) afficher cette liste sans les crochets.\n",
    "\n",
    "par exemple vous obtiendrez avec une matrice 4 lignes et 4 colonnes :\n",
    "\n",
    "    1 6 8 3 \n",
    "    3 6 5 1\n",
    "    6 4 9 7\n",
    "    9 6 8 7\n",
    "\n"
   ]
  },
  {
   "cell_type": "code",
   "execution_count": null,
   "metadata": {},
   "outputs": [],
   "source": [
    "# Votre code ICI\n"
   ]
  },
  {
   "cell_type": "markdown",
   "metadata": {},
   "source": [
    "## Matrice symétrique"
   ]
  },
  {
   "cell_type": "markdown",
   "metadata": {},
   "source": [
    "Soit une matrice M à n lignes, n colonnes stockée dans une liste de n listes à n éléments entiers.\n",
    "\n",
    "M est symétrique si pour tout i et j indices respectivement de lignes et colonnes on a M[i][j] = M[j][i].\n",
    "\n",
    "Par exemple la matrice suivante est symétrique : \n",
    "\n",
    "    1 6 8 3 \n",
    "    6 6 5 1\n",
    "    8 5 9 7\n",
    "    3 1 7 7\n",
    "\n",
    "tandis que celle-ci ne l'est pas :\n",
    "\n",
    "    1 6 8 3 \n",
    "    3 6 5 1\n",
    "    6 4 9 7\n",
    "    9 6 8 7\n",
    "    \n",
    "écrire un code indiquant si une matrice est symétrique ou non."
   ]
  },
  {
   "cell_type": "code",
   "execution_count": null,
   "metadata": {},
   "outputs": [],
   "source": [
    "# Votre code ICI\n"
   ]
  },
  {
   "cell_type": "markdown",
   "metadata": {},
   "source": [
    "## Construction d'une matrice symétrique"
   ]
  },
  {
   "cell_type": "markdown",
   "metadata": {},
   "source": [
    "construisez une matrice symétrique à n lignes et n colonnes avec des entiers entre 0 et 9 pris au hasard."
   ]
  },
  {
   "cell_type": "code",
   "execution_count": null,
   "metadata": {},
   "outputs": [],
   "source": [
    "# Votre code ICI\n"
   ]
  }
 ],
 "metadata": {
  "kernelspec": {
   "display_name": "Python 3 (ipykernel)",
   "language": "python",
   "name": "python3"
  },
  "language_info": {
   "codemirror_mode": {
    "name": "ipython",
    "version": 3
   },
   "file_extension": ".py",
   "mimetype": "text/x-python",
   "name": "python",
   "nbconvert_exporter": "python",
   "pygments_lexer": "ipython3",
   "version": "3.9.7"
  }
 },
 "nbformat": 4,
 "nbformat_minor": 4
}
