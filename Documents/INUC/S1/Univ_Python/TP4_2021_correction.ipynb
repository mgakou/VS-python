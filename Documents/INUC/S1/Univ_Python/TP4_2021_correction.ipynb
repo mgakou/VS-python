{
 "cells": [
  {
   "cell_type": "markdown",
   "metadata": {},
   "source": [
    "# TP n°4 : Listes : correction\n",
    "\n"
   ]
  },
  {
   "cell_type": "markdown",
   "metadata": {},
   "source": [
    "___________________________________________________________________________\n",
    "## Liste d' éléments\n",
    "\n"
   ]
  },
  {
   "cell_type": "markdown",
   "metadata": {},
   "source": [
    "1) On donne un entier $x$ et on compte de 10 en 10 trois fois à partir de x. Construire la liste $L$ qui contient les trois nombres obtenus. Par exemple, si x=42, la liste est formée des trois entiers 42, 52 et 62.\n",
    "\n"
   ]
  },
  {
   "cell_type": "code",
   "execution_count": 1,
   "metadata": {},
   "outputs": [
    {
     "name": "stdout",
     "output_type": "stream",
     "text": [
      "[21, 31, 41]\n"
     ]
    }
   ],
   "source": [
    "# Votre code ICI\n",
    "x = 21\n",
    "L = []\n",
    "for i in range(3):\n",
    "    L.append(x+10*i)\n",
    "print(L)"
   ]
  },
  {
   "cell_type": "markdown",
   "metadata": {},
   "source": [
    "2) Soit k un entier positif. Cette fois la liste contient k éléments."
   ]
  },
  {
   "cell_type": "code",
   "execution_count": 2,
   "metadata": {},
   "outputs": [
    {
     "name": "stdout",
     "output_type": "stream",
     "text": [
      "[21, 31, 41, 51, 61, 71, 81, 91, 101, 111, 121]\n"
     ]
    }
   ],
   "source": [
    "# Votre code ICI\n",
    "\n",
    "x = 21\n",
    "L = []\n",
    "k = 11\n",
    "for i in range(k):\n",
    "    L.append(x + 10*i)\n",
    "print(L)"
   ]
  },
  {
   "cell_type": "markdown",
   "metadata": {},
   "source": [
    "___________________________________________________________________________\n",
    "## Changer certains éléments d'une liste\n",
    "\n"
   ]
  },
  {
   "cell_type": "markdown",
   "metadata": {},
   "source": [
    "On donne une liste `L` d'entiers ayant au moins 2 valeurs. Modifier cette liste pour que les éléments situés en première et dernière position soient échangés.\n",
    "\n",
    "Par exemple, si `L = [31, 12, 81, 9, 65] ` alors, après modification, on aura `L = [65, 12, 81, 9, 31]`.\n",
    "\n"
   ]
  },
  {
   "cell_type": "code",
   "execution_count": 3,
   "metadata": {},
   "outputs": [
    {
     "name": "stdout",
     "output_type": "stream",
     "text": [
      "[97, 12, 81, 56, 31]\n"
     ]
    }
   ],
   "source": [
    "# Votre code ICI\n",
    "\n",
    "L = [31,12,81,56,97]\n",
    "aux = L[0]\n",
    "L[0]= L[len(L)-1]\n",
    "L[len(L)-1] = aux\n",
    "print(L)"
   ]
  },
  {
   "cell_type": "markdown",
   "metadata": {},
   "source": [
    "___________________________________________________________________________\n",
    "## Test de présence\n",
    "\n"
   ]
  },
  {
   "cell_type": "markdown",
   "metadata": {},
   "source": [
    "On donne\n",
    "\n",
    "\n",
    "- une liste d'entiers `L`\n",
    "\n",
    "- un entier `x`\n",
    "\n",
    "On rappelle que `x in L` est un booléen qui teste la présence de `x` dans la liste `L`.\n",
    "\n",
    "Construire un booléen `ok` qui vaut `True` si l'un des trois entiers `x`, `x - 1` et `x + 1` est dans la liste et `False` sinon. Exemple avec `x = 42` :\n",
    "\n",
    "\n",
    "- si `L =[31, 12, 42, 9, 65]` alors `ok = True`\n",
    "\n",
    "- si `L =[31, 12, 81, 43]` alors `ok = True`\n",
    "\n",
    "- si `L =[41]` alors `ok = True`\n",
    "\n",
    "- si `L =[31, 12, 81, 9, 65]` alors `ok = False`\n",
    "\n"
   ]
  },
  {
   "cell_type": "code",
   "execution_count": null,
   "metadata": {},
   "outputs": [],
   "source": [
    "# Votre code ICI\n",
    "L = [31,12,81,56,97]\n",
    "x = 13\n",
    "ok = False\n",
    "if (x-1 in L or x in L or x+1 in L):\n",
    "    ok = True\n",
    "print(ok)"
   ]
  },
  {
   "cell_type": "markdown",
   "metadata": {},
   "source": [
    "___________________________________________________________________________\n",
    "## Liste des solutions de l'équation du second degré\n",
    "\n"
   ]
  },
  {
   "cell_type": "markdown",
   "metadata": {},
   "source": [
    "Soit l'équation du second degré $ax^2+bx+c=0$. On supposera que $a,b,c$ sont des entiers, que $a$ est non nul et que l'inconnue $x$ est un nombre réel.\n",
    "\n",
    "On rappelle le code Python de la résolution  d'une équation du second degré :\n",
    "\n"
   ]
  },
  {
   "cell_type": "code",
   "execution_count": 9,
   "metadata": {},
   "outputs": [
    {
     "name": "stdout",
     "output_type": "stream",
     "text": [
      "2 solutions distinctes :\n",
      "x1 = -2.0\n",
      "x2 = -1.0\n"
     ]
    }
   ],
   "source": [
    "a = 1\n",
    "b = 3\n",
    "c = 2\n",
    "delta = b*b -4*a*c\n",
    "if a != 0:\n",
    "    if delta >0:\n",
    "        print(\"2 solutions distinctes :\")\n",
    "        print(\"x1 =\", (-b - delta**0.5)/(2.*a))\n",
    "        print(\"x2 =\", (-b + delta**0.5)/(2.*a))\n",
    "    else:\n",
    "        if delta == 0:\n",
    "            print(\"une seule solution\")\n",
    "            print(\"x =\", (-b)/(2.*a))\n",
    "        else:\n",
    "            print(\"Aucune solution\")\n",
    "else:\n",
    "    if b != 0:\n",
    "        print(\"une seule solution\")\n",
    "        print(\"x = \",-c/b)\n",
    "    else:\n",
    "        if c != 0:\n",
    "            print(\"Aucune solution\")\n",
    "        else:\n",
    "            print(\"une infinité de solutions : l'ensemble des réels\")\n",
    "        \n"
   ]
  },
  {
   "cell_type": "markdown",
   "metadata": {},
   "source": [
    "Adapter le code précédent pour construire la liste S contenant toutes les solutions de l'équation. Par exemple,\n",
    "\n",
    "\n",
    "- si a = 2, b=-3 et c = 1 alors   `S = [1, 0.5]`\n",
    "\n",
    "- si a = 4, b=4 et c = 1 alors   `S = [-0.5]`\n",
    "\n",
    "- si a = 4, b=4 et c = 4 alors   `S` est la liste vide\n",
    "\n",
    "- si a = 0, b=4 et c = 4 alors   `S = [-1]`\n",
    "\n",
    "etc ... (pour l'ensemble des réels vous laisserez l'affichage du message)\n",
    "\n"
   ]
  },
  {
   "cell_type": "code",
   "execution_count": null,
   "metadata": {},
   "outputs": [],
   "source": [
    "# Votre code ICI\n",
    "a = 1\n",
    "b = 3\n",
    "c = 2\n",
    "delta = b*b -4*a*c\n",
    "S = []\n",
    "if a != 0:\n",
    "    if delta >0:\n",
    "        S.append((-b - delta**0.5)/(2.*a))\n",
    "        S.append((-b + delta**0.5)/(2.*a))\n",
    "    else:\n",
    "        if delta == 0:\n",
    "            S.append((-b)/(2.*a))\n",
    "else:\n",
    "    if b != 0:\n",
    "        S.append(-c/b)\n",
    "    else:\n",
    "        if c == 0:\n",
    "            S.append(\"une infinité de solutions : l'ensemble des réels\")\n",
    "print(S)"
   ]
  },
  {
   "cell_type": "markdown",
   "metadata": {},
   "source": [
    "___________________________________________________________________________\n",
    "## Tester les mois de 31 jours avec une liste\n",
    "\n"
   ]
  },
  {
   "cell_type": "markdown",
   "metadata": {},
   "source": [
    "Construire une liste littérale `jours` telle que pour chaque numéro `i` entre 1 et 12 d'un mois d'une année non bissextile, `jours[i]` désigne le nombre de jours du mois de numéro `i`. Par exemple, `jours[10] = 31`.\n",
    "\n",
    "En déduire une variable booléenne `mois31` qui, étant donné un numéro de mois `i`, vaut `True` si le mois de numéro `i` possède 31 jours et `False` sinon.\n",
    "\n"
   ]
  },
  {
   "cell_type": "code",
   "execution_count": null,
   "metadata": {},
   "outputs": [],
   "source": [
    "# Votre code ICI\n",
    "jours = [-1,0,0,0,0,0,0,0,0,0,0,0,0] # le premier element d'indice 0 n'a pas de sens ici\n",
    "for i in range(1,13):\n",
    "    if (i%2 == 1 and i <= 7):\n",
    "        jours[i] = 31\n",
    "    else:\n",
    "        if (i%2 == 0 and i >= 8):\n",
    "            jours[i] = 31\n",
    "        else:\n",
    "            jours[i] = 30\n",
    "jours[2] = 28\n",
    "i = int(input(\"entrez un entier entre 1 et 12\"))\n",
    "mois31 = False\n",
    "if jours[i] == 31:\n",
    "    mois31 = True\n",
    "print(\"le mois no \",i,\" est un mois à 31 jours : \",mois31)"
   ]
  },
  {
   "cell_type": "markdown",
   "metadata": {},
   "source": [
    "## Comparaison de deux listes\n",
    "\n"
   ]
  },
  {
   "cell_type": "markdown",
   "metadata": {},
   "source": [
    "Deux listes sont identiques si et seulement si elles ont m^me nombre d'éléments et si les éléments de m^me indice sont égaux.\n",
    "\n",
    "Ecrire un programme testant si deux listes sont identiques ou pas.\n",
    "\n"
   ]
  },
  {
   "cell_type": "code",
   "execution_count": 2,
   "metadata": {},
   "outputs": [
    {
     "name": "stdout",
     "output_type": "stream",
     "text": [
      "True\n"
     ]
    }
   ],
   "source": [
    "# Votre code ICI\n",
    "L1 = [1,6,9]\n",
    "L2 = [1,6,9]\n",
    "egales = False\n",
    "if (len(L1) == len(L2)):\n",
    "    i = 0\n",
    "    while( i <= len(L1)-1 and L1[i] == L2[i]):\n",
    "        i = i+1\n",
    "    if (i == len(L1)):\n",
    "        egales = True\n",
    "print(egales)"
   ]
  },
  {
   "cell_type": "markdown",
   "metadata": {},
   "source": [
    "___________________________________________________________________________\n",
    "## Somme suivant les indices impairs\n",
    "\n"
   ]
  },
  {
   "cell_type": "markdown",
   "metadata": {},
   "source": [
    "On donne une liste `L` d'entiers. Calculer la somme `s` des éléments de `L` dont l'indice est impair. Par exemple, si `L = [31, 12, 81, 9, 31]` alors `s = 21`.\n",
    "\n"
   ]
  },
  {
   "cell_type": "code",
   "execution_count": 9,
   "metadata": {},
   "outputs": [
    {
     "name": "stdout",
     "output_type": "stream",
     "text": [
      "s =  21\n"
     ]
    }
   ],
   "source": [
    "# Votre code ICI\n",
    "\n",
    "L = [31, 12, 81, 9, 31]\n",
    "s = 0\n",
    "for i in range(1,len(L),2):\n",
    "    s = s + L[i]\n",
    "print(\"s = \",s)"
   ]
  },
  {
   "cell_type": "markdown",
   "metadata": {},
   "source": [
    "___________________________________________________________________________\n",
    "## Calcul du minimum et son indice\n",
    "\n"
   ]
  },
  {
   "cell_type": "markdown",
   "metadata": {},
   "source": [
    "1) On donne une liste L d'entiers. Calculer le plus petit élément `mini` de la liste. Par exemple, si `L = [31, 9, 81, 9, 31]` alors `mini = 9`.\n",
    "\n"
   ]
  },
  {
   "cell_type": "code",
   "execution_count": 10,
   "metadata": {},
   "outputs": [
    {
     "name": "stdout",
     "output_type": "stream",
     "text": [
      "s =  21\n"
     ]
    }
   ],
   "source": [
    "# Votre code ICI\n",
    "\n",
    "L = [31, 9, 81, 9, 31]\n",
    "mini = L[0]\n",
    "for i in range(1,len(L)):\n",
    "    if (L[i] < mini):\n",
    "        mini = L[i]\n",
    "print(\"le minimum de la liste est \",mini)"
   ]
  },
  {
   "cell_type": "markdown",
   "metadata": {},
   "source": [
    "2) On donne une liste d'entiers. Déterminer un indice `i_mini` correspondant au plus petit élément `mini` de la liste. Par exemple\n",
    "\n",
    "\n",
    "- si `L = [31, 12, 81, 9, 31]` alors `mini = 9` et `i_mini = 3`\n",
    "\n",
    "- si `L = [31, 9, 81, 9, 31]` alors `mini = 9` et `i_mini = 1` (ou encore `i_mini = 3`)\n",
    "\n"
   ]
  },
  {
   "cell_type": "code",
   "execution_count": 11,
   "metadata": {},
   "outputs": [
    {
     "name": "stdout",
     "output_type": "stream",
     "text": [
      "le minimum de la liste est l élément no  1 , et vaut :  9\n"
     ]
    }
   ],
   "source": [
    "# Votre code ICI\n",
    "\n",
    "L = [31, 9, 81, 9, 31]\n",
    "mini = L[0]\n",
    "i_mini = 0\n",
    "for i in range(1,len(L)):\n",
    "    if (L[i] < mini):\n",
    "        mini = L[i]\n",
    "        i_mini = i\n",
    "print(\"le minimum de la liste est l élément no \",i_mini,\", et vaut : \",mini)"
   ]
  },
  {
   "cell_type": "markdown",
   "metadata": {},
   "source": [
    "___________________________________________________________________________\n",
    "## Minimum et son occurence\n",
    "\n"
   ]
  },
  {
   "cell_type": "markdown",
   "metadata": {},
   "source": [
    "On donne une liste `L` d'entiers. Calculez son `minimum` et son nombre d'occurence (cad le nb de fois ou le minimum apparaît dans la liste).\n",
    "\n",
    "Par exemple, si `L = [81, 32, 12, 9, 10, 65, 46,9,11,12,9,76]` alors `minimum = 9` et `nbOccurence = 3`\n",
    "\n"
   ]
  },
  {
   "cell_type": "code",
   "execution_count": 12,
   "metadata": {},
   "outputs": [
    {
     "name": "stdout",
     "output_type": "stream",
     "text": [
      "minimum :  9  nb apparition   2\n"
     ]
    }
   ],
   "source": [
    "# Votre code ICI\n",
    "\n",
    "L = [31, 12, 81, 9, 9]\n",
    "mini = L[0]\n",
    "nbOccurence = 1\n",
    "for i in range(len(L)):\n",
    "    if (L[i] < mini):\n",
    "        mini = L[i]\n",
    "        nbOccurence = 1\n",
    "    else:\n",
    "        if (L[i] == mini):\n",
    "            nbOccurence = nbOccurence+1\n",
    "print(\"minimum : \",mini,\" nb apparition  \",nbOccurence)"
   ]
  },
  {
   "cell_type": "markdown",
   "metadata": {},
   "source": [
    "___________________________________________________________________________\n",
    "## Valeurs paires d'une liste\n",
    "\n"
   ]
  },
  {
   "cell_type": "markdown",
   "metadata": {},
   "source": [
    "Soit une liste `L` d'entiers. Séparer cette liste en deux listes :\n",
    "\n",
    "\n",
    "- la liste `P` des entiers pairs de `L`\n",
    "\n",
    "- la liste `I` des entiers impairs de `L`\n",
    "\n",
    "Par exemple, si `L = [31, 12, 9, 65, 81, 42]` alors `P = [12, 42]` et `I = [31, 9, 65, 81]`\n",
    "\n"
   ]
  },
  {
   "cell_type": "code",
   "execution_count": 13,
   "metadata": {},
   "outputs": [
    {
     "name": "stdout",
     "output_type": "stream",
     "text": [
      "P =  [12, 42]\n",
      "I =  [31, 9, 65, 81]\n"
     ]
    }
   ],
   "source": [
    "# Votre code ICI\n",
    "\n",
    "L = [31, 12, 9, 65, 81, 42]\n",
    "P = []\n",
    "I = []\n",
    "for i in range(len(L)):\n",
    "    if (L[i]%2 == 0):\n",
    "        P.append(L[i])\n",
    "    else:\n",
    "        I.append(L[i])\n",
    "print(\"P = \",P)\n",
    "print(\"I = \",I)"
   ]
  },
  {
   "cell_type": "markdown",
   "metadata": {},
   "source": [
    "___________________________________________________________________________\n",
    "## Indices pairs\n",
    "\n"
   ]
  },
  {
   "cell_type": "markdown",
   "metadata": {},
   "source": [
    "Soit une liste `L`. Séparer cette liste en deux listes :\n",
    "\n",
    "\n",
    "- la liste `IP` des éléments de `L` d'indices pairs\n",
    "\n",
    "- la liste `II` des éléments de `L` d'indices impairs\n",
    "\n",
    "Par exemple, si `L = [31, 12, 9, 65, 81, 42]` alors `IP = [31, 9, 81]` et `II = [12, 65, 42]`.\n",
    "\n"
   ]
  },
  {
   "cell_type": "code",
   "execution_count": 14,
   "metadata": {},
   "outputs": [
    {
     "name": "stdout",
     "output_type": "stream",
     "text": [
      "IP =  [31, 9, 81]\n",
      "II =  [12, 65, 42]\n"
     ]
    }
   ],
   "source": [
    "# Votre code ICI\n",
    "\n",
    "\n",
    "L = [31, 12, 9, 65, 81, 42]\n",
    "IP = []\n",
    "II = []\n",
    "for i in range(len(L)):\n",
    "    if (i%2 == 0):\n",
    "        IP.append(L[i])\n",
    "    else:\n",
    "        II.append(L[i])\n",
    "print(\"IP = \",IP)\n",
    "print(\"II = \",II)"
   ]
  },
  {
   "cell_type": "markdown",
   "metadata": {},
   "source": [
    "___________________________________________________________________________\n",
    "## Echanger côte à côte\n",
    "\n"
   ]
  },
  {
   "cell_type": "markdown",
   "metadata": {},
   "source": [
    "Soit une liste `L`. Modifier `L` pour que\n",
    "\n",
    "\n",
    "- le 1er élément et le 2ème élément soient échangés de position\n",
    "\n",
    "- le 3ème élément et le 4ème élément soient échangés de position\n",
    "\n",
    "- ...\n",
    "\n",
    "- et ainsi de suite jusqu'à ce que plus aucun échange ne soit possible.\n",
    "\n",
    "Par exemple,\n",
    "\n",
    "\n",
    "- si `L = [31, 12, 9, 65, 81, 42]` alors, après échanges, `L = [12, 31, 65, 9,42, 81]`\n",
    "\n",
    "- si `L = [31, 12, 9, 65, 81]` alors, après échanges, `L = [12, 31, 65, 9, 81]`\n",
    "\n",
    "- si `L = [31]` alors, après échange, `L = [31]`\n",
    "\n"
   ]
  },
  {
   "cell_type": "code",
   "execution_count": 2,
   "metadata": {},
   "outputs": [
    {
     "name": "stdout",
     "output_type": "stream",
     "text": [
      "[12, 31, 65, 9, 81]\n"
     ]
    }
   ],
   "source": [
    "# Votre code ICI\n",
    "\n",
    "L = [31, 12, 9, 65, 81]\n",
    "i = 0\n",
    "while( i <= len(L)-2 ):\n",
    "    aux = L[i]\n",
    "    L[i] = L[i+1]\n",
    "    L[i+1] = aux\n",
    "    i = i+2\n",
    "print(L)"
   ]
  },
  {
   "cell_type": "markdown",
   "metadata": {},
   "source": [
    "___________________________________________________________________________\n",
    "## Inverser une liste\n",
    "\n"
   ]
  },
  {
   "cell_type": "markdown",
   "metadata": {},
   "source": [
    "Soit une liste `L`. Modifier `L` pour que\n",
    "\n",
    "\n",
    "- le 1er élément et le dernier élément soient échangés de position\n",
    "\n",
    "- le 2ème élément et l'avant-dernier élément soient échangés de position\n",
    "\n",
    "- ...\n",
    "\n",
    "- et ainsi de suite jusqu'à ce que tous les échanges possibles soient effectués.\n",
    "\n",
    "Par exemple,\n",
    "\n",
    "\n",
    "- si `L = [31, 12, 9, 65]` alors, après échanges, `L = [65, 9, 12, 31]`\n",
    "\n",
    "- si `L = [31, 12, 81, 9, 65]` alors, après échanges, `L = [65, 9, 81, 12, 31]`\n",
    "\n",
    "- si `L = [31]` alors, après échange, `L = [31]`\n",
    "\n"
   ]
  },
  {
   "cell_type": "code",
   "execution_count": 6,
   "metadata": {},
   "outputs": [
    {
     "name": "stdout",
     "output_type": "stream",
     "text": [
      "[4, 65, 9, 12, 31]\n"
     ]
    }
   ],
   "source": [
    "# Votre code ICI\n",
    "\n",
    "L = [31, 12, 9, 65, 4]\n",
    "indiceMax = len(L)//2 -1 # division entière !!!\n",
    "indice = len(L)-1\n",
    "for i in range(indiceMax+1):\n",
    "    aux = L[i]\n",
    "    L[i] = L[indice]\n",
    "    L[indice] = aux\n",
    "    indice = indice-1\n",
    "print(L)"
   ]
  },
  {
   "cell_type": "markdown",
   "metadata": {},
   "source": [
    "## Permuter les éléments d'une liste"
   ]
  },
  {
   "cell_type": "markdown",
   "metadata": {},
   "source": [
    "Permuter les éléments d'une liste.\n",
    "Exemple :\n",
    "\n",
    "si `L = [65, 9, 81, 12, 31]`, alors L de vient `L = [31, 65, 9, 81, 12]`\n",
    "\n",
    "vous n'utiliserez pas de deuxième liste ..."
   ]
  },
  {
   "cell_type": "code",
   "execution_count": 7,
   "metadata": {},
   "outputs": [
    {
     "name": "stdout",
     "output_type": "stream",
     "text": [
      "[31, 65, 9, 81, 12]\n"
     ]
    }
   ],
   "source": [
    "L = [65, 9, 81, 12, 31]\n",
    "aux = L[len(L)-1]\n",
    "for i in range(len(L)-1,0,-1):\n",
    "    L[i] = L[i-1]\n",
    "L[0] = aux\n",
    "print(L)"
   ]
  },
  {
   "cell_type": "markdown",
   "metadata": {},
   "source": [
    "___________________________________________________________________________\n",
    "## Décompte pair/impair\n",
    "\n"
   ]
  },
  {
   "cell_type": "markdown",
   "metadata": {},
   "source": [
    "On donne une liste `L` d'entiers et on demande de calculer\n",
    "\n",
    "\n",
    "- le nombre  `n_pair` d'indices `i` tel que l'élément `L[i]` est pair\n",
    "\n",
    "- le nombre  `n_impair` d'indices `i` tel que l'élément `L[i]` est impair\n",
    "\n",
    "Par exemple, si `L = [31, 12, 9, 65, 81, 42]` alors `n_pair = 2` et `n_impair = 4`.\n",
    "\n"
   ]
  },
  {
   "cell_type": "code",
   "execution_count": 18,
   "metadata": {},
   "outputs": [
    {
     "name": "stdout",
     "output_type": "stream",
     "text": [
      "n_pair =  2 , n_impair =  4\n"
     ]
    }
   ],
   "source": [
    "# Votre code ICI\n",
    "\n",
    "L = [31, 12, 9, 65, 81, 42]\n",
    "n_pair = 0\n",
    "n_impair = 0\n",
    "for i in range(len(L)):\n",
    "    if (L[i]%2 == 0):\n",
    "        n_pair = n_pair+1\n",
    "    else:\n",
    "        n_impair = n_impair+1\n",
    "print(\"n_pair = \",n_pair,\", n_impair = \",n_impair)"
   ]
  },
  {
   "cell_type": "code",
   "execution_count": null,
   "metadata": {},
   "outputs": [],
   "source": []
  }
 ],
 "metadata": {
  "kernelspec": {
   "display_name": "Python 3 (ipykernel)",
   "language": "python",
   "name": "python3"
  },
  "language_info": {
   "codemirror_mode": {
    "name": "ipython",
    "version": 3
   },
   "file_extension": ".py",
   "mimetype": "text/x-python",
   "name": "python",
   "nbconvert_exporter": "python",
   "pygments_lexer": "ipython3",
   "version": "3.9.7"
  }
 },
 "nbformat": 4,
 "nbformat_minor": 4
}
